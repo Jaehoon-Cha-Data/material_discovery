{
 "cells": [
  {
   "cell_type": "markdown",
   "metadata": {},
   "source": [
    "# Choosing target materials\n",
    "\n",
    "Here we searched through the top SLME materials and performed google scholar searches of the term \"XY photovoltaic\" where XY is the chemical formula. Performed on Aug 22nd 2024. \n",
    "The top hit materials are then selected as the search targets for the materials discovery campaign."
   ]
  },
  {
   "cell_type": "code",
   "execution_count": 2,
   "metadata": {},
   "outputs": [],
   "source": [
    "import pandas as pd"
   ]
  },
  {
   "cell_type": "code",
   "execution_count": 3,
   "metadata": {},
   "outputs": [],
   "source": [
    "hits = pd.read_json('datasets/slmes_and_lit_hits.json')"
   ]
  },
  {
   "cell_type": "code",
   "execution_count": 4,
   "metadata": {},
   "outputs": [
    {
     "data": {
      "text/html": [
       "<div>\n",
       "<style scoped>\n",
       "    .dataframe tbody tr th:only-of-type {\n",
       "        vertical-align: middle;\n",
       "    }\n",
       "\n",
       "    .dataframe tbody tr th {\n",
       "        vertical-align: top;\n",
       "    }\n",
       "\n",
       "    .dataframe thead th {\n",
       "        text-align: right;\n",
       "    }\n",
       "</style>\n",
       "<table border=\"1\" class=\"dataframe\">\n",
       "  <thead>\n",
       "    <tr style=\"text-align: right;\">\n",
       "      <th></th>\n",
       "      <th>mp-id</th>\n",
       "      <th>formula</th>\n",
       "      <th>slme</th>\n",
       "      <th>gap_type</th>\n",
       "      <th>Hits</th>\n",
       "    </tr>\n",
       "  </thead>\n",
       "  <tbody>\n",
       "    <tr>\n",
       "      <th>722</th>\n",
       "      <td>mp-21276</td>\n",
       "      <td>PbS</td>\n",
       "      <td>29.1495</td>\n",
       "      <td>direct</td>\n",
       "      <td>35700</td>\n",
       "    </tr>\n",
       "    <tr>\n",
       "      <th>117</th>\n",
       "      <td>mp-20725</td>\n",
       "      <td>PbO2</td>\n",
       "      <td>30.3792</td>\n",
       "      <td>direct</td>\n",
       "      <td>6180</td>\n",
       "    </tr>\n",
       "    <tr>\n",
       "      <th>426</th>\n",
       "      <td>mp-22856</td>\n",
       "      <td>Bi2S3</td>\n",
       "      <td>30.2033</td>\n",
       "      <td>direct</td>\n",
       "      <td>4630</td>\n",
       "    </tr>\n",
       "    <tr>\n",
       "      <th>3</th>\n",
       "      <td>mp-2160</td>\n",
       "      <td>Sb2Se3</td>\n",
       "      <td>29.9475</td>\n",
       "      <td>direct</td>\n",
       "      <td>3130</td>\n",
       "    </tr>\n",
       "    <tr>\n",
       "      <th>67</th>\n",
       "      <td>mp-504536</td>\n",
       "      <td>Cu4SnS4</td>\n",
       "      <td>28.2309</td>\n",
       "      <td>direct</td>\n",
       "      <td>454</td>\n",
       "    </tr>\n",
       "    <tr>\n",
       "      <th>21</th>\n",
       "      <td>mp-540771</td>\n",
       "      <td>BaZrS3</td>\n",
       "      <td>28.6503</td>\n",
       "      <td>direct</td>\n",
       "      <td>329</td>\n",
       "    </tr>\n",
       "    <tr>\n",
       "      <th>283</th>\n",
       "      <td>mp-23020</td>\n",
       "      <td>BiSeI</td>\n",
       "      <td>32.0805</td>\n",
       "      <td>direct</td>\n",
       "      <td>277</td>\n",
       "    </tr>\n",
       "    <tr>\n",
       "      <th>514</th>\n",
       "      <td>mp-15252</td>\n",
       "      <td>Cu2GeS3</td>\n",
       "      <td>28.4099</td>\n",
       "      <td>direct</td>\n",
       "      <td>154</td>\n",
       "    </tr>\n",
       "    <tr>\n",
       "      <th>249</th>\n",
       "      <td>mp-27655</td>\n",
       "      <td>Te2I</td>\n",
       "      <td>30.2838</td>\n",
       "      <td>direct</td>\n",
       "      <td>74</td>\n",
       "    </tr>\n",
       "    <tr>\n",
       "      <th>541</th>\n",
       "      <td>mp-557179</td>\n",
       "      <td>NaSbS2</td>\n",
       "      <td>32.4437</td>\n",
       "      <td>direct</td>\n",
       "      <td>64</td>\n",
       "    </tr>\n",
       "  </tbody>\n",
       "</table>\n",
       "</div>"
      ],
      "text/plain": [
       "         mp-id  formula     slme gap_type   Hits\n",
       "722   mp-21276      PbS  29.1495   direct  35700\n",
       "117   mp-20725     PbO2  30.3792   direct   6180\n",
       "426   mp-22856    Bi2S3  30.2033   direct   4630\n",
       "3      mp-2160   Sb2Se3  29.9475   direct   3130\n",
       "67   mp-504536  Cu4SnS4  28.2309   direct    454\n",
       "21   mp-540771   BaZrS3  28.6503   direct    329\n",
       "283   mp-23020    BiSeI  32.0805   direct    277\n",
       "514   mp-15252  Cu2GeS3  28.4099   direct    154\n",
       "249   mp-27655     Te2I  30.2838   direct     74\n",
       "541  mp-557179   NaSbS2  32.4437   direct     64"
      ]
     },
     "execution_count": 4,
     "metadata": {},
     "output_type": "execute_result"
    }
   ],
   "source": [
    "hits.sort_values('Hits', ascending=False).head(10)"
   ]
  }
 ],
 "metadata": {
  "kernelspec": {
   "display_name": "fgw",
   "language": "python",
   "name": "python3"
  },
  "language_info": {
   "codemirror_mode": {
    "name": "ipython",
    "version": 3
   },
   "file_extension": ".py",
   "mimetype": "text/x-python",
   "name": "python",
   "nbconvert_exporter": "python",
   "pygments_lexer": "ipython3",
   "version": "3.12.3"
  }
 },
 "nbformat": 4,
 "nbformat_minor": 2
}
